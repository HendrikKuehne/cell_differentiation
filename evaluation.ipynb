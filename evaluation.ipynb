{
 "cells": [
  {
   "cell_type": "code",
   "execution_count": 2,
   "metadata": {},
   "outputs": [],
   "source": [
    "%matplotlib osx\n",
    "import matplotlib.pyplot as plt\n",
    "import numpy as np\n",
    "from mpl_toolkits import mplot3d"
   ]
  },
  {
   "attachments": {},
   "cell_type": "markdown",
   "metadata": {},
   "source": [
    "# Fetching the simulation parameters and the actual data"
   ]
  },
  {
   "cell_type": "code",
   "execution_count": 3,
   "metadata": {},
   "outputs": [
    {
     "name": "stdout",
     "output_type": "stream",
     "text": [
      "Nmax = 128\n",
      "tdiv = 5000\n",
      "n_genes = 5\n",
      "dt = 0.01\n",
      "p.shape =  (128, 40001, 5)\n",
      "m.shape =  (128, 40001, 5)\n"
     ]
    }
   ],
   "source": [
    "# default values\n",
    "Nmax = 128\n",
    "tdiv = 500\n",
    "n_genes = 5\n",
    "\n",
    "sim_id = \"Fig1c_2023_01_03-12_55\"\n",
    "# fetching the simulation parameters\n",
    "dir = \"simulation_output/\" + sim_id\n",
    "file = open(dir + \"/abstract.txt\",\"r\")\n",
    "for line in file:\n",
    "    line = line.replace(\" \",\"\")\n",
    "    line = line.replace(\"\\n\",\"\")\n",
    "    line = line.split(\"=\")\n",
    "\n",
    "    if(line[0] == \"Nmax\"):\n",
    "        Nmax = int(line[1])\n",
    "    elif(line[0] == \"theta\"):\n",
    "        n_genes = len(line[1].split(\",\"))\n",
    "    elif(line[0] == \"tdiv\"):\n",
    "        tdiv = int(line[1])                 # ill-named: This is the number of updates to the expresion levels that are carried out, not\n",
    "                                            # the time in seconds between cell divisions\n",
    "    elif(line[0] == \"dt\"):\n",
    "        dt = float(line[1])\n",
    "file.close()\n",
    "\n",
    "# fetching the simulation data\n",
    "p = []\n",
    "m = []\n",
    "for i in range(Nmax):\n",
    "    # reading in every protein and mRNA timeline for every cell\n",
    "    p += [np.loadtxt(dir + \"/p_cell{}.txt\".format(i),delimiter=\",\"),]\n",
    "    m += [np.loadtxt(dir + \"/m_cell{}.txt\".format(i),delimiter=\",\"),]\n",
    "p = np.array(p)\n",
    "m = np.array(m)\n",
    "\n",
    "print(\"Nmax = {}\\ntdiv = {}\\nn_genes = {}\\ndt = {}\".format(Nmax,tdiv,n_genes,dt))\n",
    "print(\"p.shape = \",p.shape)\n",
    "print(\"m.shape = \",m.shape)"
   ]
  },
  {
   "attachments": {},
   "cell_type": "markdown",
   "metadata": {},
   "source": [
    "# Creating a 3D-plot of the mRNA concentration"
   ]
  },
  {
   "cell_type": "code",
   "execution_count": 4,
   "metadata": {},
   "outputs": [],
   "source": [
    "# start and stop indices for the time interval over which we are plotting (times in seconds)\n",
    "t_start = 50\n",
    "t_stop = 100\n",
    "i_start = t_start / dt\n",
    "i_stop = t_stop / dt\n",
    "\n",
    "if int(i_start) != i_start or int(i_stop) != i_stop:\n",
    "    print(\"int(i_start) != i_start\")\n",
    "if int(i_stop) != i_stop:\n",
    "    print(\"int(i_stop) != i_stop\")\n",
    "if(int(i_start) == i_start and int(i_stop) == i_stop):\n",
    "    i_start = int(i_start)\n",
    "    i_stop = int(i_stop)\n",
    "\n",
    "fig = plt.figure(\"Time Evolution in protein space for all cells and all times\")\n",
    "ax = plt.axes(projection='3d')\n",
    "color = iter(plt.cm.jet(np.linspace(start=0,stop=1,num=Nmax)))\n",
    "for i in range(Nmax):\n",
    "    ax.plot3D(p[i,i_start:i_stop,2],p[i,i_start:i_stop,3],p[i,i_start:i_stop,4],c=next(color),label=\"cell {}\".format(i))\n",
    "ax.set_xlabel(\"p[2] / 1\")\n",
    "ax.set_ylabel(\"p[3] / 1\")\n",
    "ax.set_zlabel(\"p[4] / 1\")\n",
    "# plt.legend()\n",
    "plt.show()"
   ]
  },
  {
   "attachments": {},
   "cell_type": "markdown",
   "metadata": {},
   "source": [
    "# Crearing time series plots of the protein concentration\n",
    "I will create five plots; one for each protein. I will plot the protein concentration over time, including new cells after each division."
   ]
  },
  {
   "cell_type": "code",
   "execution_count": 5,
   "metadata": {},
   "outputs": [],
   "source": [
    "max_n_cells = 128\n",
    "if int(np.log2(max_n_cells)) != np.log2(max_n_cells):       # Sanity Check\n",
    "    print(\"Non-integer result for np.log2(max_n_cells) !\")\n",
    "time_axis = np.linspace(start=1,stop=tdiv * (np.log2(max_n_cells)+1),num=tdiv * int((np.log2(max_n_cells)+1)))*dt\n",
    "\n",
    "fi,ax = plt.subplots(nrows=5,ncols=1,sharex=True,num=\"Protein concentration for up to {} cells\".format(max_n_cells),figsize=(30,10))\n",
    "for i in range(5):                                  # Loop over the proteines\n",
    "    for j in range(int(np.log2(max_n_cells))+1):        # loop over times\n",
    "        ax[i].axvline(tdiv*j*dt,c=\"black\")\n",
    "    color = iter(plt.cm.jet(np.linspace(start=0,stop=1,num=Nmax)))\n",
    "    for k in range(Nmax):                               # loop over all cells\n",
    "        ax[i].plot(time_axis,p[k,0:int(np.log2(max_n_cells)+1)*tdiv,i],c=next(color))\n",
    "    ax[i].set_ylabel(\"p[{}] / 1\".format(i))\n",
    "    ax[i].grid()\n",
    "ax[4].set_xlabel(r\"time $t \\:/\\: s$\")\n",
    "\n",
    "# creating a second axis which shows the cell number\n",
    "ax_n = ax[0].twiny()\n",
    "new_tick_locations = [tdiv*(j+1/2)*dt for j in range(int(np.log2(max_n_cells))+1)]\n",
    "new_tick_labels = [2**j for j in range(int(np.log2(max_n_cells))+1)]\n",
    "ax_n.set_xlim(ax[0].get_xlim())\n",
    "ax_n.set_xticks(new_tick_locations)\n",
    "ax_n.set_xticklabels(new_tick_labels)\n",
    "ax_n.set_xlabel(r\"Cell number $N$\")\n",
    "\n",
    "plt.savefig(\"plots/\" + sim_id + \"_history.pdf\",bbox_inches=\"tight\")"
   ]
  },
  {
   "attachments": {},
   "cell_type": "markdown",
   "metadata": {},
   "source": [
    "# Determining if there are different cell types\n",
    "I will cluster the cells into cell types by the distance measure introduced in the paper. I will assume that \"being of the same cell type\" is transitive, meaning if $a$ and $b$ are the same and $b$ and $c$ are the same, then $a$ and $c$ are the same."
   ]
  },
  {
   "cell_type": "code",
   "execution_count": 6,
   "metadata": {},
   "outputs": [
    {
     "name": "stdout",
     "output_type": "stream",
     "text": [
      "Between t = 0 and t = 50 in the 128-cell stage of the simulation, there were 2 distinct cell types.\n"
     ]
    }
   ],
   "source": [
    "# start and stop indices for the time interval over which we are measuring\n",
    "N_cells_measure = 128\n",
    "t_start = 0             # within the time span when there were N_cells_measure cells, in seconds\n",
    "delta_t = 50\n",
    "i_start = np.log2(N_cells_measure)*tdiv + t_start / dt\n",
    "i_stop = i_start + delta_t / dt\n",
    "\n",
    "if int(i_start) != i_start or int(i_stop) != i_stop:\n",
    "    print(\"int(i_start) != i_start\")\n",
    "if int(i_stop) != i_stop:\n",
    "    print(\"int(i_stop) != i_stop\")\n",
    "if(int(i_start) == i_start and int(i_stop) == i_stop):\n",
    "    i_start = int(i_start)\n",
    "    i_stop = int(i_stop)\n",
    "\n",
    "# computing the average protein expression levels\n",
    "p_shape = (Nmax,n_genes)\n",
    "p_average = np.zeros(shape=p_shape)\n",
    "\n",
    "for i in range(p.shape[0]):\n",
    "    for k in range(n_genes):\n",
    "        p_average[i,k] = np.mean(p[i,i_start:i_stop,k])\n",
    "\n",
    "# computing the distances\n",
    "dist = np.zeros(shape=(Nmax,Nmax))\n",
    "for i in range(Nmax):\n",
    "    for j in range(Nmax):\n",
    "        dist[i,j] = np.sqrt(np.sum((p_average[i,:] - p_average[j,:])**2))\n",
    "\n",
    "# the array cell_types will contain an array for each cell type. cell_types[i] will contain all cells of the respective type\n",
    "cell_types = []\n",
    "threshold = .3\n",
    "# clustering\n",
    "for i in range(Nmax):\n",
    "    matched = False\n",
    "    # searching for a cell of matching type in the known cell types\n",
    "    for cell_type in cell_types:\n",
    "        for j in cell_type:\n",
    "            if dist[i,j] < threshold:\n",
    "                # we found a match in one of the existing cell types\n",
    "                cell_type += [i,]\n",
    "                matched = True\n",
    "                break\n",
    "        if matched: break\n",
    "    \n",
    "    if not matched:\n",
    "        # we did not find a match; the current cell has a new type\n",
    "        cell_types += [[i],]\n",
    "\n",
    "# sanity check\n",
    "sum = 0\n",
    "for cell_type in cell_types: sum += len(cell_type)\n",
    "if(sum != Nmax):\n",
    "    print(\"You lost some cells on the way\")\n",
    "\n",
    "print(\"Between t = {} and t = {} in the {}-cell stage of the simulation, there were {} distinct cell types.\".format(t_start,t_start+delta_t,N_cells_measure,len(cell_types)))"
   ]
  },
  {
   "attachments": {},
   "cell_type": "markdown",
   "metadata": {},
   "source": [
    "# For sim_id = \"Fig1c_2023_01_03-12_55\": Creating a plot that shows how a differentiated cell type is an attractor in the protein space"
   ]
  },
  {
   "cell_type": "code",
   "execution_count": 7,
   "metadata": {},
   "outputs": [
    {
     "data": {
      "text/plain": [
       "Text(0.5, 0, 'Cell number $N$')"
      ]
     },
     "execution_count": 7,
     "metadata": {},
     "output_type": "execute_result"
    },
    {
     "name": "stderr",
     "output_type": "stream",
     "text": [
      "2023-01-07 01:16:51.571 python[57915:2884476] +[CATransaction synchronize] called within transaction\n"
     ]
    }
   ],
   "source": [
    "if False:\n",
    "    max_n_cells = 128\n",
    "    if int(np.log2(max_n_cells)) != np.log2(max_n_cells):       # Sanity Check\n",
    "        print(\"Non-integer result for np.log2(max_n_cells) !\")\n",
    "    time_axis = np.linspace(start=1,stop=tdiv * (np.log2(max_n_cells)+1),num=tdiv * int((np.log2(max_n_cells)+1)))*dt\n",
    "\n",
    "    fig = plt.figure(\"Protein 2 expression level for up to {} cells\".format(max_n_cells),figsize=(30,10))\n",
    "    ax = plt.gca()\n",
    "    for j in range(int(np.log2(max_n_cells))+1):        # loop over times\n",
    "        ax.axvline(tdiv*j*dt,c=\"black\")\n",
    "    color = iter(plt.cm.jet(np.linspace(start=0,stop=1,num=Nmax)))\n",
    "    for k in range(Nmax):                               # loop over all cells\n",
    "        ax.plot(time_axis,p[k,0:int(np.log2(max_n_cells)+1)*tdiv,2],c=next(color))\n",
    "    ax.set_ylabel(\"p[{}] / 1\".format(2))\n",
    "    ax.grid()\n",
    "    ax.set_xlabel(r\"time $t \\:/\\: s$\")\n",
    "\n",
    "    # creating a second axis which shows the cell number\n",
    "    ax_n = ax.twiny()\n",
    "    new_tick_locations = [tdiv*(j+1/2)*dt for j in range(int(np.log2(max_n_cells))+1)]\n",
    "    new_tick_labels = [2**j for j in range(int(np.log2(max_n_cells))+1)]\n",
    "    ax_n.set_xlim(ax.get_xlim())\n",
    "    ax_n.set_xticks(new_tick_locations)\n",
    "    ax_n.set_xticklabels(new_tick_labels)\n",
    "    ax_n.set_xlabel(r\"Cell number $N$\")\n",
    "\n",
    "    # plt.savefig(\"plots/\" + sim_id + \"_history.pdf\",bbox_inches=\"tight\")"
   ]
  }
 ],
 "metadata": {
  "kernelspec": {
   "display_name": "Python 3",
   "language": "python",
   "name": "python3"
  },
  "language_info": {
   "codemirror_mode": {
    "name": "ipython",
    "version": 3
   },
   "file_extension": ".py",
   "mimetype": "text/x-python",
   "name": "python",
   "nbconvert_exporter": "python",
   "pygments_lexer": "ipython3",
   "version": "3.9.7"
  },
  "orig_nbformat": 4,
  "vscode": {
   "interpreter": {
    "hash": "b33df87945450c6bccacfe5f7119144508227f0fbf0644f8df8da5e9bcdf0cd7"
   }
  }
 },
 "nbformat": 4,
 "nbformat_minor": 2
}
